{
  "nbformat": 4,
  "nbformat_minor": 0,
  "metadata": {
    "colab": {
      "name": "Breaking a Caesar Cipher.ipynb",
      "provenance": [],
      "collapsed_sections": []
    },
    "kernelspec": {
      "name": "python3",
      "display_name": "Python 3"
    }
  },
  "cells": [
    {
      "cell_type": "code",
      "metadata": {
        "id": "XCyazP32jHkS",
        "colab_type": "code",
        "colab": {}
      },
      "source": [
        "import string\n"
      ],
      "execution_count": 0,
      "outputs": []
    },
    {
      "cell_type": "code",
      "metadata": {
        "id": "nlgNzz46a028",
        "colab_type": "code",
        "colab": {
          "base_uri": "https://localhost:8080/",
          "height": 34
        },
        "outputId": "5da12333-f6e6-4bef-c4dd-4b1fb1a1a44f"
      },
      "source": [
        "alphabet_string =string.ascii_lowercase\n",
        "both = alphabet_string+alphabet_string\n",
        "print(both)"
      ],
      "execution_count": 30,
      "outputs": [
        {
          "output_type": "stream",
          "text": [
            "abcdefghijklmnopqrstuvwxyzabcdefghijklmnopqrstuvwxyz\n"
          ],
          "name": "stdout"
        }
      ]
    },
    {
      "cell_type": "code",
      "metadata": {
        "id": "oWldaiWXivRy",
        "colab_type": "code",
        "colab": {
          "base_uri": "https://localhost:8080/",
          "height": 34
        },
        "outputId": "3c19fe6c-9dd6-475c-907c-1569e8b2ed20"
      },
      "source": [
        "start = input ('Enter cipher type (in lower case):') "
      ],
      "execution_count": 48,
      "outputs": [
        {
          "output_type": "stream",
          "text": [
            "Enter cipher type (in lower case):decrypt\n"
          ],
          "name": "stdout"
        }
      ]
    },
    {
      "cell_type": "code",
      "metadata": {
        "id": "Bc41vn9lxa96",
        "colab_type": "code",
        "colab": {}
      },
      "source": [
        "# word = 'love'\n",
        "# shift = 5\n",
        "# print(type(both))\n",
        "# for char in word:\n",
        "#   print(type(alphabet_string.index(char)+ shift))\n",
        "#   print(both[alphabet_string.index(char)+ shift])"
      ],
      "execution_count": 0,
      "outputs": []
    },
    {
      "cell_type": "code",
      "metadata": {
        "id": "O7VErkEBj8tl",
        "colab_type": "code",
        "colab": {
          "base_uri": "https://localhost:8080/",
          "height": 68
        },
        "outputId": "9f638552-567f-40a6-f1ee-ab20b791089f"
      },
      "source": [
        "new = ''\n",
        "if start == 'encrypt':\n",
        "  text = input('Enter encrypt text:')\n",
        "  shift = int(input('Shift:'))\n",
        "  for char in text:\n",
        "    if char != \" \":\n",
        "      new += both[alphabet_string.index(char)+ shift]\n",
        "    else:\n",
        "      new += \" \"\n",
        "  print (new)\n",
        "\n",
        "else:\n",
        "  text = input('Enter decrypt text:')\n",
        "  shift = int(input('Shift:'))\n",
        "  for char in text:\n",
        "    if char != \" \":\n",
        "      new += both[alphabet_string.index(char)- shift]\n",
        "    else:\n",
        "      new += \" \"\n",
        "  print (new)"
      ],
      "execution_count": 57,
      "outputs": [
        {
          "output_type": "stream",
          "text": [
            "Enter decrypt text:efgfoe uif fbtu xbmm pg uif dbtumf\n",
            "Shift:1\n",
            "defend the east wall of the castle\n"
          ],
          "name": "stdout"
        }
      ]
    },
    {
      "cell_type": "code",
      "metadata": {
        "id": "JIVGDQS52Gg-",
        "colab_type": "code",
        "colab": {}
      },
      "source": [
        ""
      ],
      "execution_count": 0,
      "outputs": []
    }
  ]
}